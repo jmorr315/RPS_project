{
 "cells": [
  {
   "cell_type": "code",
   "execution_count": null,
   "id": "9ccc6baa",
   "metadata": {},
   "outputs": [],
   "source": [
    "# User Choice\n",
    "user_choice = input(\"Enter rock, paper, or scissors\").lower()"
   ]
  },
  {
   "cell_type": "code",
   "execution_count": null,
   "id": "f8b42598",
   "metadata": {},
   "outputs": [],
   "source": []
  }
 ],
 "metadata": {
  "language_info": {
   "name": "python"
  }
 },
 "nbformat": 4,
 "nbformat_minor": 5
}
