{
 "cells": [
  {
   "cell_type": "code",
   "execution_count": null,
   "id": "50e0f549",
   "metadata": {},
   "outputs": [
    {
     "name": "stdout",
     "output_type": "stream",
     "text": [
      "You LOSE!\n",
      "Player 1 chose: paper\n",
      "Player 2 chose: scissors\n"
     ]
    }
   ],
   "source": [
    "# Step 1: User Choice\n",
    "\n",
    "user_choice = input(\"Enter rock, paper, or scissors\" ).lower()\n",
    "\n",
    "\n",
    "#Step 2: Validate\n",
    "\n",
    "options = [\"rock\", \"paper\", \"scissors\"]\n",
    "\n",
    "if user_choice not in options:\n",
    "    print(\"Invalid Choice! Please enter 'rock', 'paper', or 'scissors'\")\n",
    "\n",
    "else: \n",
    "#Step 3: Computer makes a choice\n",
    "  \n",
    "    import random\n",
    "    options = [\"rock\", \"paper\", \"scissors\"]\n",
    "    computer_choice = random.choice(options)\n",
    "\n",
    "#Step 4: Compair choices Who won?\n",
    "    if user_choice == computer_choice:\n",
    "        print (\"It's a TIE!\")\n",
    "        print(f\"Player 1 chose: {user_choice}\")\n",
    "        print(f\"Player 2 chose: {computer_choice}\")\n",
    "    elif (user_choice == \"rock\" and computer_choice == \"scissors\") or (user_choice == \"paper\" and computer_choice == \"rock\") or (user_choice == \"scissors\" and computer_choice == \"paper\"):\n",
    "        print(\"Player 1 WON!\") \n",
    "        print(f\"Player 1 chose: {user_choice}\")\n",
    "        print(f\"Player 2 chose: {computer_choice}\")\n",
    "    else:\n",
    "        print(\"You LOSE!\") \n",
    "        print(f\"Player 1 chose: {user_choice}\")\n",
    "        print(f\"Player 2 chose: {computer_choice}\")\n"
   ]
  }
 ],
 "metadata": {
  "kernelspec": {
   "display_name": "Python 3",
   "language": "python",
   "name": "python3"
  },
  "language_info": {
   "codemirror_mode": {
    "name": "ipython",
    "version": 3
   },
   "file_extension": ".py",
   "mimetype": "text/x-python",
   "name": "python",
   "nbconvert_exporter": "python",
   "pygments_lexer": "ipython3",
   "version": "3.13.4"
  }
 },
 "nbformat": 4,
 "nbformat_minor": 5
}
